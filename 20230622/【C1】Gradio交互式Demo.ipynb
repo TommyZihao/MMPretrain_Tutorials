{
 "cells": [
  {
   "cell_type": "markdown",
   "id": "d25710bb-74e4-4c4c-ab1f-af1cf54d16fe",
   "metadata": {},
   "source": [
    "# Gradio交互式Demo\n",
    "\n",
    "同济子豪兄 2023-6-20"
   ]
  },
  {
   "cell_type": "markdown",
   "id": "75ca6a97-8dde-48f0-81f8-e79e5a9afd8e",
   "metadata": {},
   "source": [
    "## 进入Demo目录"
   ]
  },
  {
   "cell_type": "code",
   "execution_count": 2,
   "id": "97ae0b97-c483-4f79-8762-6dc1872be719",
   "metadata": {},
   "outputs": [],
   "source": [
    "import os\n",
    "os.chdir('mmpretrain/projects/gradio_demo')"
   ]
  },
  {
   "cell_type": "markdown",
   "id": "2b635e3c-760d-4224-8020-3975b9b51f65",
   "metadata": {},
   "source": [
    "## 开启公网分享链接\n",
    "\n",
    "将`mmpretrain/projects/gradio_demo/launch.py`最后一行修改为`demo.launch(share=True)`"
   ]
  },
  {
   "cell_type": "markdown",
   "id": "096fe2e4-16cc-4cc3-af24-2d89b089d0b4",
   "metadata": {},
   "source": [
    "## 启动Demo"
   ]
  },
  {
   "cell_type": "code",
   "execution_count": null,
   "id": "91efcbae-2a09-4707-89ae-31d04a5ff0ca",
   "metadata": {},
   "outputs": [
    {
     "name": "stdout",
     "output_type": "stream",
     "text": [
      "06/20 22:52:30 - mmpre - \u001b[4m\u001b[37mINFO\u001b[0m - Available GPUs: 1\n",
      "06/20 22:52:32 - mmengine - \u001b[5m\u001b[4m\u001b[33mWARNING\u001b[0m - `Visualizer` backend is not initialized because save_dir is None.\n",
      "Running on local URL:  http://127.0.0.1:7860\n",
      "Running on public URL: https://58a6aebfaa10eac032.gradio.live\n",
      "\n",
      "This share link expires in 72 hours. For free permanent hosting and GPU upgrades, run `gradio deploy` from Terminal to deploy to Spaces (https://huggingface.co/spaces)\n",
      "Loads checkpoint by http backend from path: https://download.openmmlab.com/mmclassification/v0/resnet/resnet18_8xb32_in1k_20210831-fbbb1da6.pth\n",
      "Downloading: \"https://download.openmmlab.com/mmclassification/v0/resnet/resnet18_8xb32_in1k_20210831-fbbb1da6.pth\" to /home/featurize/.cache/torch/hub/checkpoints/resnet18_8xb32_in1k_20210831-fbbb1da6.pth\n",
      "100%|██████████████████████████████████████| 44.7M/44.7M [00:03<00:00, 13.0MB/s]\n",
      "06/20 22:54:23 - mmpre - \u001b[4m\u001b[37mINFO\u001b[0m - New instance ImageClassificationTabresnet18_8xb32_in1k on cuda:0.\n",
      "06/20 22:56:39 - mmpre - \u001b[4m\u001b[37mINFO\u001b[0m - Use cached ImageClassificationTabresnet18_8xb32_in1k.\n"
     ]
    }
   ],
   "source": [
    "!python launch.py"
   ]
  },
  {
   "cell_type": "code",
   "execution_count": null,
   "id": "8ef6808d-fe33-478e-a29f-291a90c5b1c8",
   "metadata": {},
   "outputs": [],
   "source": []
  }
 ],
 "metadata": {
  "kernelspec": {
   "display_name": "Python 3 (ipykernel)",
   "language": "python",
   "name": "python3"
  },
  "language_info": {
   "codemirror_mode": {
    "name": "ipython",
    "version": 3
   },
   "file_extension": ".py",
   "mimetype": "text/x-python",
   "name": "python",
   "nbconvert_exporter": "python",
   "pygments_lexer": "ipython3",
   "version": "3.7.10"
  }
 },
 "nbformat": 4,
 "nbformat_minor": 5
}

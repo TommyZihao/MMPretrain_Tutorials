{
 "cells": [
  {
   "cell_type": "markdown",
   "id": "1324d87c-d1b3-4f20-b046-7abc412c512a",
   "metadata": {},
   "source": [
    "# MiniGPT-4多模态对话\n",
    "\n",
    "同济子豪兄 2023-6-22"
   ]
  },
  {
   "cell_type": "markdown",
   "id": "88c3885b-5914-4922-b3fe-19380e2f5e01",
   "metadata": {},
   "source": [
    "## 安装环境"
   ]
  },
  {
   "cell_type": "code",
   "execution_count": 1,
   "id": "96bc61ed-1b2b-4282-8c5c-e146b932bcc0",
   "metadata": {},
   "outputs": [
    {
     "name": "stdout",
     "output_type": "stream",
     "text": [
      "正克隆到 'MiniGPT-4'...\n",
      "remote: Enumerating objects: 289, done.\u001b[K\n",
      "remote: Counting objects: 100% (151/151), done.\u001b[K\n",
      "remote: Compressing objects: 100% (55/55), done.\u001b[K\n",
      "remote: Total 289 (delta 109), reused 97 (delta 96), pack-reused 138\u001b[K\n",
      "接收对象中: 100% (289/289), 45.35 MiB | 12.97 MiB/s, 完成.\n",
      "处理 delta 中: 100% (126/126), 完成.\n"
     ]
    }
   ],
   "source": [
    "!git clone https://github.com/Vision-CAIR/MiniGPT-4.git"
   ]
  },
  {
   "cell_type": "code",
   "execution_count": 1,
   "id": "d447ba46-b6a3-4b9a-8afe-0b3fb1ffb470",
   "metadata": {},
   "outputs": [
    {
     "name": "stdout",
     "output_type": "stream",
     "text": [
      "/home/featurize/work/MMPretrain教程/MiniGPT-4\n"
     ]
    }
   ],
   "source": [
    "%cd MiniGPT-4"
   ]
  },
  {
   "cell_type": "code",
   "execution_count": 6,
   "id": "3aa36e7b-9ea2-4019-a381-2224e9d2e587",
   "metadata": {},
   "outputs": [
    {
     "name": "stdout",
     "output_type": "stream",
     "text": [
      "\u001b[31mERROR: Ignored the following versions that require a different python version: 1.0.7 Requires-Python >=3.8; 1.1.0 Requires-Python >=3.8\u001b[0m\u001b[31m\n",
      "\u001b[0m\u001b[31mERROR: Could not find a version that satisfies the requirement contourpy==1.0.7 (from versions: 0.0.1, 0.0.2, 0.0.3, 0.0.4, 0.0.5, 1.0.0, 1.0.1, 1.0.2, 1.0.3, 1.0.4, 1.0.5, 1.0.6)\u001b[0m\u001b[31m\n",
      "\u001b[0m\u001b[31mERROR: No matching distribution found for contourpy==1.0.7\u001b[0m\u001b[31m\n",
      "\u001b[0m"
     ]
    }
   ],
   "source": [
    "!pip install -qr requirements.txt\n",
    "!pip install -q salesforce-lavis\n",
    "!pip install -q bitsandbytes\n",
    "!pip install -q accelerate\n",
    "!pip install -q gradio==3.27.0\n",
    "!pip install -q h5py\n",
    "!pip install -q typing-extensions\n",
    "!pip install -q wheel\n",
    "!pip install -q git+https://github.com/huggingface/transformers.git -U"
   ]
  },
  {
   "cell_type": "markdown",
   "id": "582138a8-171a-4eba-a019-5c280b236457",
   "metadata": {},
   "source": [
    "## 下载minigpt-4预训练权重"
   ]
  },
  {
   "cell_type": "code",
   "execution_count": null,
   "id": "d74ebd7e-faa4-4d39-a953-dbd49023e82f",
   "metadata": {},
   "outputs": [],
   "source": [
    "# if you run 13B , Plaease Download Checkpoint Aligned with Vicuna 13B\n",
    "#!wget https://huggingface.co/wangrongsheng/MiniGPT4/blob/main/pretrained_minigpt4.pth\n",
    "\n",
    "# if you run 7B , Plaease Download Checkpoint Aligned with Vicuna 7B\n",
    "!wget https://huggingface.co/wangrongsheng/MiniGPT4-7B/resolve/main/prerained_minigpt4_7b.pth"
   ]
  },
  {
   "cell_type": "markdown",
   "id": "289b8909-7e02-4f8b-9c06-ce7a1c93ec65",
   "metadata": {},
   "source": [
    "## <font color=\"#660000\">Notice</font>\n",
    "\n",
    "## IF you run 13B:\n",
    "\n",
    "- Set `llama_model: \"wangrongsheng/MiniGPT-4-LLaMA\"` in `minigpt4/configs/models/minigpt4.yaml`\n",
    "- Set `ckpt: 'pretrained_minigpt4.pth'` in `eval_configs/minigpt4_eval.yaml`\n",
    "\n",
    "> `wangrongsheng/MiniGPT-4-LLaMA` was created from `vicuna-13b-delta-v0` and `llama-13b-hf`\n",
    "\n",
    "## IF you run 7B:\n",
    "\n",
    "- Set `llama_model: \"wangrongsheng/MiniGPT-4-LLaMA-7B\"` in `minigpt4/configs/models/minigpt4.yaml`\n",
    "- Set `ckpt: 'prerained_minigpt4_7b.pth'` in `eval_configs/minigpt4_eval.yaml`\n",
    "\n",
    "> `wangrongsheng/MiniGPT-4-LLaMA-7B` was created from `vicuna-7b-delta-v0` and `llama-7b-hf`"
   ]
  },
  {
   "cell_type": "markdown",
   "id": "b2832c20-de71-4f86-bf3e-8ef57d915dc1",
   "metadata": {},
   "source": [
    "## 启动Demo"
   ]
  },
  {
   "cell_type": "code",
   "execution_count": null,
   "id": "1834cd66-d6fc-4630-9286-f8f1daee1cb0",
   "metadata": {},
   "outputs": [],
   "source": [
    "!python demo.py --cfg-path eval_configs/minigpt4_eval.yaml --gpu-id 0"
   ]
  },
  {
   "cell_type": "code",
   "execution_count": null,
   "id": "a293e3e1-1d23-48b0-bb9b-e4d58509df3a",
   "metadata": {},
   "outputs": [],
   "source": []
  }
 ],
 "metadata": {
  "kernelspec": {
   "display_name": "Python 3 (ipykernel)",
   "language": "python",
   "name": "python3"
  },
  "language_info": {
   "codemirror_mode": {
    "name": "ipython",
    "version": 3
   },
   "file_extension": ".py",
   "mimetype": "text/x-python",
   "name": "python",
   "nbconvert_exporter": "python",
   "pygments_lexer": "ipython3",
   "version": "3.7.10"
  }
 },
 "nbformat": 4,
 "nbformat_minor": 5
}

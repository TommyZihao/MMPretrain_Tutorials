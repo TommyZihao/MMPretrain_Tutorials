{
 "cells": [
  {
   "cell_type": "markdown",
   "id": "99bf75c1-60f5-4c19-adea-e05c719d615c",
   "metadata": {},
   "source": [
    "# 预训练模型预测-图像分类\n",
    "\n",
    "同济子豪兄 2023-622"
   ]
  },
  {
   "cell_type": "markdown",
   "id": "94d9b6fa-f7c0-4026-9311-da2cfb3a7758",
   "metadata": {},
   "source": [
    "## 导入工具包"
   ]
  },
  {
   "cell_type": "code",
   "execution_count": 2,
   "id": "b60a30d4-99a3-4e7b-aede-c421f23a3585",
   "metadata": {},
   "outputs": [],
   "source": [
    "from mmpretrain import list_models, inference_model"
   ]
  },
  {
   "cell_type": "markdown",
   "id": "143417a4-56d8-486d-9ad3-683f3773b081",
   "metadata": {},
   "source": [
    "## 查找所有图像分类预训练模型"
   ]
  },
  {
   "cell_type": "code",
   "execution_count": 5,
   "id": "2a39f4ef-eac7-49d7-ac4a-2cb90a9c0b33",
   "metadata": {},
   "outputs": [],
   "source": [
    "# list_models(task='Image Classification')"
   ]
  },
  {
   "cell_type": "markdown",
   "id": "5e4754bc-fe88-4642-b13e-40c7180c7409",
   "metadata": {},
   "source": [
    "## 查看所有ResNet18预训练模型"
   ]
  },
  {
   "cell_type": "code",
   "execution_count": 8,
   "id": "f84bb76b-4b2b-411c-9d7f-47cf7b03a0ed",
   "metadata": {},
   "outputs": [
    {
     "data": {
      "text/plain": [
       "['resnet18_8xb16_cifar10', 'resnet18_8xb32_in1k']"
      ]
     },
     "execution_count": 8,
     "metadata": {},
     "output_type": "execute_result"
    }
   ],
   "source": [
    "list_models(task='Image Classification', pattern='resnet18')"
   ]
  },
  {
   "cell_type": "markdown",
   "id": "6922515d-1fb5-4d75-87cc-fbaa5f850f57",
   "metadata": {},
   "source": [
    "## 推理预测"
   ]
  },
  {
   "cell_type": "code",
   "execution_count": 10,
   "id": "53208515-49c0-40a0-b1ef-084373cee2c3",
   "metadata": {},
   "outputs": [],
   "source": [
    "# 待输入图像路径\n",
    "img_path = 'mmpretrain/demo/bird.JPEG'"
   ]
  },
  {
   "cell_type": "code",
   "execution_count": 11,
   "id": "cfc1591c-5a58-4dbe-b6f1-5e98957cbcd2",
   "metadata": {},
   "outputs": [],
   "source": [
    "# 模型\n",
    "model = 'resnet18_8xb32_in1k'"
   ]
  },
  {
   "cell_type": "code",
   "execution_count": 12,
   "id": "6617f8dd-142f-4bdb-8d25-7e5ac509c05b",
   "metadata": {},
   "outputs": [
    {
     "name": "stdout",
     "output_type": "stream",
     "text": [
      "Loads checkpoint by http backend from path: https://download.openmmlab.com/mmclassification/v0/resnet/resnet18_8xb32_in1k_20210831-fbbb1da6.pth\n"
     ]
    },
    {
     "name": "stderr",
     "output_type": "stream",
     "text": [
      "Downloading: \"https://download.openmmlab.com/mmclassification/v0/resnet/resnet18_8xb32_in1k_20210831-fbbb1da6.pth\" to /home/featurize/.cache/torch/hub/checkpoints/resnet18_8xb32_in1k_20210831-fbbb1da6.pth\n"
     ]
    },
    {
     "data": {
      "text/html": [
       "<pre style=\"white-space:pre;overflow-x:auto;line-height:normal;font-family:Menlo,'DejaVu Sans Mono',consolas,'Courier New',monospace\"></pre>\n"
      ],
      "text/plain": []
     },
     "metadata": {},
     "output_type": "display_data"
    }
   ],
   "source": [
    "# 推理预测\n",
    "result = inference_model(model, img_path)"
   ]
  },
  {
   "cell_type": "markdown",
   "id": "209b4464-a62a-4cac-8a47-28f580ab2429",
   "metadata": {},
   "source": [
    "## 解析预测结果"
   ]
  },
  {
   "cell_type": "code",
   "execution_count": 14,
   "id": "f2c9bbdc-bbfa-4e95-a06c-77c51bf670da",
   "metadata": {},
   "outputs": [
    {
     "data": {
      "text/plain": [
       "dict_keys(['pred_scores', 'pred_label', 'pred_score', 'pred_class'])"
      ]
     },
     "execution_count": 14,
     "metadata": {},
     "output_type": "execute_result"
    }
   ],
   "source": [
    "result.keys()"
   ]
  },
  {
   "cell_type": "code",
   "execution_count": 18,
   "id": "24048e83-1212-42f2-b20c-a5e2fb65b54f",
   "metadata": {},
   "outputs": [
    {
     "data": {
      "text/plain": [
       "(1000,)"
      ]
     },
     "execution_count": 18,
     "metadata": {},
     "output_type": "execute_result"
    }
   ],
   "source": [
    "# 所有类别的置信度\n",
    "result['pred_scores'].shape"
   ]
  },
  {
   "cell_type": "code",
   "execution_count": 20,
   "id": "75f64f8e-3c85-4285-8750-ac7cc283e957",
   "metadata": {},
   "outputs": [
    {
     "data": {
      "text/plain": [
       "'house finch, linnet, Carpodacus mexicanus'"
      ]
     },
     "execution_count": 20,
     "metadata": {},
     "output_type": "execute_result"
    }
   ],
   "source": [
    "# 置信度最高类别的名称\n",
    "result['pred_class']"
   ]
  },
  {
   "cell_type": "code",
   "execution_count": 16,
   "id": "0c1d80bb-2611-4ec7-b248-42cd7a761b1b",
   "metadata": {},
   "outputs": [
    {
     "data": {
      "text/plain": [
       "12"
      ]
     },
     "execution_count": 16,
     "metadata": {},
     "output_type": "execute_result"
    }
   ],
   "source": [
    "# 置信度最高类别的类别 ID\n",
    "result['pred_label']"
   ]
  },
  {
   "cell_type": "code",
   "execution_count": 19,
   "id": "f2be04d6-97d8-4257-b2ba-678a0e0d1e06",
   "metadata": {},
   "outputs": [
    {
     "data": {
      "text/plain": [
       "0.9763922691345215"
      ]
     },
     "execution_count": 19,
     "metadata": {},
     "output_type": "execute_result"
    }
   ],
   "source": [
    "# 置信度最高类别的置信度\n",
    "result['pred_score']"
   ]
  },
  {
   "cell_type": "code",
   "execution_count": null,
   "id": "8a37fe42-f061-40a8-8914-bf89be683e0e",
   "metadata": {},
   "outputs": [],
   "source": []
  },
  {
   "cell_type": "code",
   "execution_count": null,
   "id": "57240c28-be49-415f-854f-bbe8736147fa",
   "metadata": {},
   "outputs": [],
   "source": []
  },
  {
   "cell_type": "code",
   "execution_count": null,
   "id": "74875475-c271-4bd2-848e-5d9fa4517095",
   "metadata": {},
   "outputs": [],
   "source": []
  }
 ],
 "metadata": {
  "kernelspec": {
   "display_name": "Python 3 (ipykernel)",
   "language": "python",
   "name": "python3"
  },
  "language_info": {
   "codemirror_mode": {
    "name": "ipython",
    "version": 3
   },
   "file_extension": ".py",
   "mimetype": "text/x-python",
   "name": "python",
   "nbconvert_exporter": "python",
   "pygments_lexer": "ipython3",
   "version": "3.7.10"
  }
 },
 "nbformat": 4,
 "nbformat_minor": 5
}

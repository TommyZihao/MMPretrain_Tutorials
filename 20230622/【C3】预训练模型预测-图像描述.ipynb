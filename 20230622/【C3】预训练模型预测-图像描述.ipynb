{
 "cells": [
  {
   "cell_type": "markdown",
   "id": "99bf75c1-60f5-4c19-adea-e05c719d615c",
   "metadata": {},
   "source": [
    "# 预训练模型预测-图像描述\n",
    "\n",
    "同济子豪兄 2023-622"
   ]
  },
  {
   "cell_type": "markdown",
   "id": "3fb7fc2f-31bd-4a60-b8d0-09563fd085bb",
   "metadata": {},
   "source": [
    "## 导入工具包"
   ]
  },
  {
   "cell_type": "code",
   "execution_count": 1,
   "id": "b60a30d4-99a3-4e7b-aede-c421f23a3585",
   "metadata": {},
   "outputs": [],
   "source": [
    "from mmpretrain import list_models, inference_model"
   ]
  },
  {
   "cell_type": "markdown",
   "id": "a24c2b4d-a77a-4213-926e-5610759c421b",
   "metadata": {},
   "source": [
    "## 查找图像描述算法"
   ]
  },
  {
   "cell_type": "code",
   "execution_count": 3,
   "id": "2a39f4ef-eac7-49d7-ac4a-2cb90a9c0b33",
   "metadata": {},
   "outputs": [
    {
     "data": {
      "text/plain": [
       "['blip-base_3rdparty_caption',\n",
       " 'blip2-opt2.7b_3rdparty-zeroshot_caption',\n",
       " 'flamingo_3rdparty-zeroshot_caption',\n",
       " 'ofa-base_3rdparty-finetuned_caption']"
      ]
     },
     "execution_count": 3,
     "metadata": {},
     "output_type": "execute_result"
    }
   ],
   "source": [
    "list_models(task='Image Caption')"
   ]
  },
  {
   "cell_type": "markdown",
   "id": "dee6b95e-3a40-43c9-909f-af85507a4973",
   "metadata": {},
   "source": [
    "## 推理预测"
   ]
  },
  {
   "cell_type": "code",
   "execution_count": 22,
   "id": "53208515-49c0-40a0-b1ef-084373cee2c3",
   "metadata": {},
   "outputs": [],
   "source": [
    "# 待输入图像路径\n",
    "\n",
    "# img_path = 'mmpretrain/demo/dog.jpg'\n",
    "\n",
    "img_path = 'mmpretrain/demo/cat-dog.png'\n",
    "\n",
    "# img_path = 'mmpretrain/demo/demo.JPEG'"
   ]
  },
  {
   "cell_type": "code",
   "execution_count": 23,
   "id": "cfc1591c-5a58-4dbe-b6f1-5e98957cbcd2",
   "metadata": {},
   "outputs": [],
   "source": [
    "# 模型\n",
    "model = 'blip-base_3rdparty_caption'"
   ]
  },
  {
   "cell_type": "code",
   "execution_count": 24,
   "id": "6617f8dd-142f-4bdb-8d25-7e5ac509c05b",
   "metadata": {},
   "outputs": [
    {
     "name": "stderr",
     "output_type": "stream",
     "text": [
      "The tokenizer class you load from this checkpoint is not the same type as the class this function is called from. It may result in unexpected tokenization. \n",
      "The tokenizer class you load from this checkpoint is 'BertTokenizer'. \n",
      "The class this function is called from is 'BlipTokenizer'.\n"
     ]
    },
    {
     "name": "stdout",
     "output_type": "stream",
     "text": [
      "Loads checkpoint by http backend from path: https://download.openmmlab.com/mmclassification/v1/blip/blip-base_3rdparty_coco-caption_20230419-a5b71af3.pth\n"
     ]
    },
    {
     "data": {
      "text/html": [
       "<pre style=\"white-space:pre;overflow-x:auto;line-height:normal;font-family:Menlo,'DejaVu Sans Mono',consolas,'Courier New',monospace\"></pre>\n"
      ],
      "text/plain": []
     },
     "metadata": {},
     "output_type": "display_data"
    }
   ],
   "source": [
    "# 推理预测\n",
    "result = inference_model(model, img_path)"
   ]
  },
  {
   "cell_type": "code",
   "execution_count": 25,
   "id": "f2c9bbdc-bbfa-4e95-a06c-77c51bf670da",
   "metadata": {},
   "outputs": [
    {
     "data": {
      "text/plain": [
       "{'pred_caption': 'a puppy and a cat sitting on a blanket'}"
      ]
     },
     "execution_count": 25,
     "metadata": {},
     "output_type": "execute_result"
    }
   ],
   "source": [
    "result"
   ]
  },
  {
   "cell_type": "code",
   "execution_count": null,
   "id": "24048e83-1212-42f2-b20c-a5e2fb65b54f",
   "metadata": {},
   "outputs": [],
   "source": []
  },
  {
   "cell_type": "code",
   "execution_count": null,
   "id": "74875475-c271-4bd2-848e-5d9fa4517095",
   "metadata": {},
   "outputs": [],
   "source": []
  }
 ],
 "metadata": {
  "kernelspec": {
   "display_name": "Python 3 (ipykernel)",
   "language": "python",
   "name": "python3"
  },
  "language_info": {
   "codemirror_mode": {
    "name": "ipython",
    "version": 3
   },
   "file_extension": ".py",
   "mimetype": "text/x-python",
   "name": "python",
   "nbconvert_exporter": "python",
   "pygments_lexer": "ipython3",
   "version": "3.7.10"
  }
 },
 "nbformat": 4,
 "nbformat_minor": 5
}

{
 "cells": [
  {
   "cell_type": "markdown",
   "id": "51743252-3d26-49c2-accc-68fd5c4a9835",
   "metadata": {},
   "source": [
    "# 训练图像分类模型-使用训练得到的模型预测\n",
    "\n",
    "同济子豪兄 2023-6-22"
   ]
  },
  {
   "cell_type": "markdown",
   "id": "aaf0be5e-0050-4809-89b3-c49ff1285680",
   "metadata": {},
   "source": [
    "## 进入MMPretrain主目录"
   ]
  },
  {
   "cell_type": "code",
   "execution_count": 1,
   "id": "56f06eda-7f07-46b0-a405-3616de29e56f",
   "metadata": {},
   "outputs": [],
   "source": [
    "import os\n",
    "os.chdir('mmpretrain')"
   ]
  },
  {
   "cell_type": "markdown",
   "id": "a85768d1-3d12-4102-9ffb-06cb9c64cbf1",
   "metadata": {},
   "source": [
    "## 导入工具包"
   ]
  },
  {
   "cell_type": "code",
   "execution_count": 2,
   "id": "b3e73b18-053a-488d-87c6-d2c1ef0cd77a",
   "metadata": {},
   "outputs": [],
   "source": [
    "from mmpretrain import ImageClassificationInferencer"
   ]
  },
  {
   "cell_type": "markdown",
   "id": "79d505e4-7ec0-4778-83d6-733d94213245",
   "metadata": {},
   "source": [
    "## 导入训练好的模型"
   ]
  },
  {
   "cell_type": "code",
   "execution_count": 4,
   "id": "d5cfe12b-e5d5-48a3-b4fc-35cb0fa0fb37",
   "metadata": {},
   "outputs": [],
   "source": [
    "config_path = 'projects/cat_dog/resnet18_finetune.py'"
   ]
  },
  {
   "cell_type": "code",
   "execution_count": 5,
   "id": "ff1519f9-9fa5-4383-a95f-c9526a595ce3",
   "metadata": {},
   "outputs": [],
   "source": [
    "ckpt_path = 'work_dirs/epoch_20.pth'"
   ]
  },
  {
   "cell_type": "code",
   "execution_count": 6,
   "id": "44b929d7-cf5c-4625-b615-6362e268cb38",
   "metadata": {},
   "outputs": [
    {
     "name": "stdout",
     "output_type": "stream",
     "text": [
      "Loads checkpoint by local backend from path: work_dirs/epoch_20.pth\n"
     ]
    }
   ],
   "source": [
    "inferencer = ImageClassificationInferencer(config_path, pretrained=ckpt_path)\n"
   ]
  },
  {
   "cell_type": "markdown",
   "id": "cf2b9766-5f92-44a0-bda0-788b11088a2a",
   "metadata": {},
   "source": [
    "## 执行预测"
   ]
  },
  {
   "cell_type": "code",
   "execution_count": 11,
   "id": "17a47499-3704-4480-b455-93ffaf4837cb",
   "metadata": {},
   "outputs": [],
   "source": [
    "# 待预测图像路径\n",
    "img_path = 'cats_dogs_dataset/test_set/cats/cat.4002.jpg'"
   ]
  },
  {
   "cell_type": "code",
   "execution_count": 12,
   "id": "0b75ffe4-ac03-40fc-aa11-4f67814e4f89",
   "metadata": {},
   "outputs": [
    {
     "data": {
      "text/html": [
       "<pre style=\"white-space:pre;overflow-x:auto;line-height:normal;font-family:Menlo,'DejaVu Sans Mono',consolas,'Courier New',monospace\"></pre>\n"
      ],
      "text/plain": []
     },
     "metadata": {},
     "output_type": "display_data"
    }
   ],
   "source": [
    "result = inferencer(img_path)"
   ]
  },
  {
   "cell_type": "code",
   "execution_count": 13,
   "id": "664ef610-54d3-45b5-ab1b-06e5e96bcc24",
   "metadata": {},
   "outputs": [
    {
     "data": {
      "text/plain": [
       "[{'pred_scores': array([0.99801564, 0.00198435], dtype=float32),\n",
       "  'pred_label': 0,\n",
       "  'pred_score': 0.9980156421661377,\n",
       "  'pred_class': 'cats'}]"
      ]
     },
     "execution_count": 13,
     "metadata": {},
     "output_type": "execute_result"
    }
   ],
   "source": [
    "result"
   ]
  },
  {
   "cell_type": "code",
   "execution_count": null,
   "id": "4198a9fc-11d2-45b6-85c0-eae3a5612d2a",
   "metadata": {},
   "outputs": [],
   "source": []
  }
 ],
 "metadata": {
  "kernelspec": {
   "display_name": "Python 3 (ipykernel)",
   "language": "python",
   "name": "python3"
  },
  "language_info": {
   "codemirror_mode": {
    "name": "ipython",
    "version": 3
   },
   "file_extension": ".py",
   "mimetype": "text/x-python",
   "name": "python",
   "nbconvert_exporter": "python",
   "pygments_lexer": "ipython3",
   "version": "3.7.10"
  }
 },
 "nbformat": 4,
 "nbformat_minor": 5
}

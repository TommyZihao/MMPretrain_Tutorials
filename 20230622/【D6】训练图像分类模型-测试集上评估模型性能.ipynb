{
 "cells": [
  {
   "cell_type": "markdown",
   "id": "fc3375d9-ee66-4d06-8e71-7ae069ab933d",
   "metadata": {},
   "source": [
    "# 训练图像分类模型-测试集上评估模型性能\n",
    "\n",
    "同济子豪兄 2023-6-22"
   ]
  },
  {
   "cell_type": "code",
   "execution_count": 1,
   "id": "32e2e3b0-cbb8-4368-929d-efb784a0748b",
   "metadata": {},
   "outputs": [],
   "source": [
    "import os\n",
    "os.chdir('mmpretrain/projects/cat_dog')"
   ]
  },
  {
   "cell_type": "markdown",
   "id": "3ceb69d6-1b5a-4629-a642-82f39b957bed",
   "metadata": {},
   "source": [
    "## 在测试集上评估模型性能，将结果保存至`result.pkl`"
   ]
  },
  {
   "cell_type": "code",
   "execution_count": 21,
   "id": "857730cb-3849-4d22-a1d2-faec854fe21b",
   "metadata": {
    "tags": []
   },
   "outputs": [],
   "source": [
    "!mim test mmpretrain resnet18_finetune.py --checkpoint ../../work_dirs/epoch_20.pth --out result.pkl\n"
   ]
  },
  {
   "cell_type": "markdown",
   "id": "ec107d3f-55f6-4e9b-a73e-8a0457b0c599",
   "metadata": {},
   "source": [
    "## 分析测试集预测结果（正确预测样本、错误预测样本）"
   ]
  },
  {
   "cell_type": "code",
   "execution_count": 4,
   "id": "e35b1c08-e7ef-4bba-9a93-609948af3df7",
   "metadata": {},
   "outputs": [
    {
     "name": "stdout",
     "output_type": "stream",
     "text": [
      "Use the script /home/featurize/work/MMPretrain教程/mmpretrain/mmpretrain/.mim/tools/analysis_tools/analyze_results.py for command analyze_results.\n",
      "The command to call is /environment/miniconda3/bin/python /home/featurize/work/MMPretrain教程/mmpretrain/mmpretrain/.mim/tools/analysis_tools/analyze_results.py resnet18_finetune.py result.pkl --out-dir analyze. \n",
      "06/22 22:01:37 - mmengine - \u001b[5m\u001b[4m\u001b[33mWARNING\u001b[0m - `Visualizer` backend is not initialized because save_dir is None.\n",
      "\u001b[32mThe script finished successfully.\u001b[0m\n"
     ]
    }
   ],
   "source": [
    "!mim run mmpretrain analyze_results resnet18_finetune.py result.pkl --out-dir analyze\n"
   ]
  },
  {
   "cell_type": "markdown",
   "id": "ec72a2cf-8a39-4964-b3f7-51f7049dd39a",
   "metadata": {},
   "source": [
    "## 绘制混淆矩阵"
   ]
  },
  {
   "cell_type": "code",
   "execution_count": 20,
   "id": "b93a9824-447a-404d-a450-41a032a27560",
   "metadata": {},
   "outputs": [
    {
     "name": "stdout",
     "output_type": "stream",
     "text": [
      "Use the script /home/featurize/work/MMPretrain教程/mmpretrain/mmpretrain/.mim/tools/analysis_tools/confusion_matrix.py for command confusion_matrix.\n",
      "The command to call is /environment/miniconda3/bin/python /home/featurize/work/MMPretrain教程/mmpretrain/mmpretrain/.mim/tools/analysis_tools/confusion_matrix.py resnet18_finetune.py result.pkl --include-values --show-path cm.jpg. \n",
      "The confusion matrix is saved at cm.jpg.\n",
      "\u001b[32mThe script finished successfully.\u001b[0m\n"
     ]
    }
   ],
   "source": [
    "!mim run mmpretrain confusion_matrix resnet18_finetune.py result.pkl --include-values --show-path cm.jpg"
   ]
  },
  {
   "cell_type": "code",
   "execution_count": null,
   "id": "21c8ae4a-ec24-4c07-8234-78e73b1f6888",
   "metadata": {},
   "outputs": [],
   "source": []
  }
 ],
 "metadata": {
  "kernelspec": {
   "display_name": "Python 3 (ipykernel)",
   "language": "python",
   "name": "python3"
  },
  "language_info": {
   "codemirror_mode": {
    "name": "ipython",
    "version": 3
   },
   "file_extension": ".py",
   "mimetype": "text/x-python",
   "name": "python",
   "nbconvert_exporter": "python",
   "pygments_lexer": "ipython3",
   "version": "3.7.10"
  }
 },
 "nbformat": 4,
 "nbformat_minor": 5
}

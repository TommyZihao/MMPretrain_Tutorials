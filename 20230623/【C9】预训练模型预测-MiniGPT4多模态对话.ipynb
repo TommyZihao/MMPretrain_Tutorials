{
 "cells": [
  {
   "cell_type": "markdown",
   "id": "1324d87c-d1b3-4f20-b046-7abc412c512a",
   "metadata": {},
   "source": [
    "# 预训练模型预测-MiniGPT4多模态对话\n",
    "\n",
    "同济子豪兄 2023-6-23\n",
    "\n",
    "文档：https://github.com/open-mmlab/mmpretrain/tree/dev/configs/minigpt4"
   ]
  },
  {
   "cell_type": "markdown",
   "id": "51aae216-fa3e-441d-bff5-6d2949b3e206",
   "metadata": {},
   "source": [
    "## 导入工具包"
   ]
  },
  {
   "cell_type": "code",
   "execution_count": 1,
   "id": "a843f17d-2639-4c2b-8eef-eea0e90256f3",
   "metadata": {},
   "outputs": [],
   "source": [
    "from mmpretrain import inference_model"
   ]
  },
  {
   "cell_type": "markdown",
   "id": "e850cd75-e8f7-4455-a04f-8edd0a613b00",
   "metadata": {},
   "source": [
    "## MiniGPT4预训练模型"
   ]
  },
  {
   "cell_type": "code",
   "execution_count": 5,
   "id": "c223aa3a-db18-4672-803f-79674102e9c2",
   "metadata": {},
   "outputs": [],
   "source": [
    "model = 'minigpt-4_vicuna-7b_caption'"
   ]
  },
  {
   "cell_type": "markdown",
   "id": "f47a3f16-6958-44df-9044-4be696c765ec",
   "metadata": {},
   "source": [
    "## 输入图像路径"
   ]
  },
  {
   "cell_type": "code",
   "execution_count": 3,
   "id": "045ba82c-1cc9-42b4-9832-d743f1710c0e",
   "metadata": {},
   "outputs": [],
   "source": [
    "img_path = 'mmpretrain/demo/cat-dog.png'"
   ]
  },
  {
   "cell_type": "markdown",
   "id": "7de192b9-cff5-4bcb-aef9-77a2a303c884",
   "metadata": {},
   "source": [
    "## 推理预测"
   ]
  },
  {
   "cell_type": "code",
   "execution_count": 6,
   "id": "d02a5339-5067-4bce-80e3-271ad7f47ab6",
   "metadata": {},
   "outputs": [
    {
     "ename": "ValueError",
     "evalue": "Failed to find model \"minigpt-4_vicuna-7b_caption\". please use `mmpretrain.list_models` to get all available names.",
     "output_type": "error",
     "traceback": [
      "\u001b[0;31m---------------------------------------------------------------------------\u001b[0m",
      "\u001b[0;31mValueError\u001b[0m                                Traceback (most recent call last)",
      "\u001b[0;32m/tmp/ipykernel_20657/1257597159.py\u001b[0m in \u001b[0;36m<module>\u001b[0;34m\u001b[0m\n\u001b[0;32m----> 1\u001b[0;31m \u001b[0mresult\u001b[0m \u001b[0;34m=\u001b[0m \u001b[0minference_model\u001b[0m\u001b[0;34m(\u001b[0m\u001b[0mmodel\u001b[0m\u001b[0;34m,\u001b[0m \u001b[0mimg_path\u001b[0m\u001b[0;34m)\u001b[0m\u001b[0;34m\u001b[0m\u001b[0;34m\u001b[0m\u001b[0m\n\u001b[0m",
      "\u001b[0;32m~/work/MMPretrain教程/mmpretrain/mmpretrain/apis/model.py\u001b[0m in \u001b[0;36minference_model\u001b[0;34m(model, *args, **kwargs)\u001b[0m\n\u001b[1;32m    359\u001b[0m         \u001b[0mmetainfo\u001b[0m \u001b[0;34m=\u001b[0m \u001b[0mgetattr\u001b[0m\u001b[0;34m(\u001b[0m\u001b[0mmodel\u001b[0m\u001b[0;34m,\u001b[0m \u001b[0;34m'_metainfo'\u001b[0m\u001b[0;34m,\u001b[0m \u001b[0;32mNone\u001b[0m\u001b[0;34m)\u001b[0m\u001b[0;34m\u001b[0m\u001b[0;34m\u001b[0m\u001b[0m\n\u001b[1;32m    360\u001b[0m     \u001b[0;32melse\u001b[0m\u001b[0;34m:\u001b[0m\u001b[0;34m\u001b[0m\u001b[0;34m\u001b[0m\u001b[0m\n\u001b[0;32m--> 361\u001b[0;31m         \u001b[0mmetainfo\u001b[0m \u001b[0;34m=\u001b[0m \u001b[0mModelHub\u001b[0m\u001b[0;34m.\u001b[0m\u001b[0mget\u001b[0m\u001b[0;34m(\u001b[0m\u001b[0mmodel\u001b[0m\u001b[0;34m)\u001b[0m\u001b[0;34m\u001b[0m\u001b[0;34m\u001b[0m\u001b[0m\n\u001b[0m\u001b[1;32m    362\u001b[0m \u001b[0;34m\u001b[0m\u001b[0m\n\u001b[1;32m    363\u001b[0m     \u001b[0;32mfrom\u001b[0m \u001b[0minspect\u001b[0m \u001b[0;32mimport\u001b[0m \u001b[0msignature\u001b[0m\u001b[0;34m\u001b[0m\u001b[0;34m\u001b[0m\u001b[0m\n",
      "\u001b[0;32m~/work/MMPretrain教程/mmpretrain/mmpretrain/apis/model.py\u001b[0m in \u001b[0;36mget\u001b[0;34m(cls, model_name)\u001b[0m\n\u001b[1;32m     59\u001b[0m         \u001b[0;32mif\u001b[0m \u001b[0mmetainfo\u001b[0m \u001b[0;32mis\u001b[0m \u001b[0;32mNone\u001b[0m\u001b[0;34m:\u001b[0m\u001b[0;34m\u001b[0m\u001b[0;34m\u001b[0m\u001b[0m\n\u001b[1;32m     60\u001b[0m             raise ValueError(\n\u001b[0;32m---> 61\u001b[0;31m                 \u001b[0;34mf'Failed to find model \"{model_name}\". please use '\u001b[0m\u001b[0;34m\u001b[0m\u001b[0;34m\u001b[0m\u001b[0m\n\u001b[0m\u001b[1;32m     62\u001b[0m                 '`mmpretrain.list_models` to get all available names.')\n\u001b[1;32m     63\u001b[0m         \u001b[0;32mif\u001b[0m \u001b[0misinstance\u001b[0m\u001b[0;34m(\u001b[0m\u001b[0mmetainfo\u001b[0m\u001b[0;34m.\u001b[0m\u001b[0mconfig\u001b[0m\u001b[0;34m,\u001b[0m \u001b[0mstr\u001b[0m\u001b[0;34m)\u001b[0m\u001b[0;34m:\u001b[0m\u001b[0;34m\u001b[0m\u001b[0;34m\u001b[0m\u001b[0m\n",
      "\u001b[0;31mValueError\u001b[0m: Failed to find model \"minigpt-4_vicuna-7b_caption\". please use `mmpretrain.list_models` to get all available names."
     ]
    }
   ],
   "source": [
    "result = inference_model(model, img_path)"
   ]
  },
  {
   "cell_type": "code",
   "execution_count": null,
   "id": "b5832f93-3b11-4449-9937-296619aeb863",
   "metadata": {},
   "outputs": [],
   "source": [
    "print(result)\n",
    "# {'pred_caption': 'This image shows a small dog and a kitten sitting on a blanket in a field of flowers. The dog is looking up at the kitten with a playful expression on its face. The background is a colorful striped blanket, and there are flowers all around them. The image is well composed with the two animals sitting in the center of the frame, surrounded by the flowers and blanket.'}"
   ]
  },
  {
   "cell_type": "code",
   "execution_count": 6,
   "id": "3aa36e7b-9ea2-4019-a381-2224e9d2e587",
   "metadata": {},
   "outputs": [
    {
     "name": "stdout",
     "output_type": "stream",
     "text": [
      "\u001b[31mERROR: Ignored the following versions that require a different python version: 1.0.7 Requires-Python >=3.8; 1.1.0 Requires-Python >=3.8\u001b[0m\u001b[31m\n",
      "\u001b[0m\u001b[31mERROR: Could not find a version that satisfies the requirement contourpy==1.0.7 (from versions: 0.0.1, 0.0.2, 0.0.3, 0.0.4, 0.0.5, 1.0.0, 1.0.1, 1.0.2, 1.0.3, 1.0.4, 1.0.5, 1.0.6)\u001b[0m\u001b[31m\n",
      "\u001b[0m\u001b[31mERROR: No matching distribution found for contourpy==1.0.7\u001b[0m\u001b[31m\n",
      "\u001b[0m"
     ]
    }
   ],
   "source": [
    "!pip install -qr requirements.txt\n",
    "!pip install -q salesforce-lavis\n",
    "!pip install -q bitsandbytes\n",
    "!pip install -q accelerate\n",
    "!pip install -q gradio==3.27.0\n",
    "!pip install -q h5py\n",
    "!pip install -q typing-extensions\n",
    "!pip install -q wheel\n",
    "!pip install -q git+https://github.com/huggingface/transformers.git -U"
   ]
  },
  {
   "cell_type": "code",
   "execution_count": null,
   "id": "a293e3e1-1d23-48b0-bb9b-e4d58509df3a",
   "metadata": {},
   "outputs": [],
   "source": []
  }
 ],
 "metadata": {
  "kernelspec": {
   "display_name": "Python 3 (ipykernel)",
   "language": "python",
   "name": "python3"
  },
  "language_info": {
   "codemirror_mode": {
    "name": "ipython",
    "version": 3
   },
   "file_extension": ".py",
   "mimetype": "text/x-python",
   "name": "python",
   "nbconvert_exporter": "python",
   "pygments_lexer": "ipython3",
   "version": "3.7.10"
  }
 },
 "nbformat": 4,
 "nbformat_minor": 5
}

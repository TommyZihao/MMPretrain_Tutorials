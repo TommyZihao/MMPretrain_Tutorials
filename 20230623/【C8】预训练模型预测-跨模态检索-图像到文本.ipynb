{
 "cells": [
  {
   "cell_type": "markdown",
   "id": "dce0f1d1-f216-47cc-aaf9-905da35d9507",
   "metadata": {},
   "source": [
    "# 预训练模型预测-跨模态检索-图像到文本\n",
    "\n",
    "同济子豪兄 2023-6-23"
   ]
  },
  {
   "cell_type": "markdown",
   "id": "c7b4b7ed-b2e2-480d-932a-7a6394b392ff",
   "metadata": {
    "tags": []
   },
   "source": [
    "## 导入工具包"
   ]
  },
  {
   "cell_type": "code",
   "execution_count": 1,
   "id": "0c09946f-4e14-4b8d-b03f-c031abe7d4f4",
   "metadata": {},
   "outputs": [],
   "source": [
    "from mmpretrain import ImageToTextRetrievalInferencer"
   ]
  },
  {
   "cell_type": "code",
   "execution_count": 2,
   "id": "a90536e1-be04-47da-9209-a7831d6bb711",
   "metadata": {},
   "outputs": [],
   "source": [
    "from mmpretrain import list_models, inference_model\n",
    "\n",
    "import cv2\n",
    "import matplotlib.pyplot as plt\n",
    "%matplotlib inline"
   ]
  },
  {
   "cell_type": "markdown",
   "id": "313e1a58-6d96-44a9-98ce-7f9c528c8e39",
   "metadata": {},
   "source": [
    "## 查找图像到文本跨模态检索算法"
   ]
  },
  {
   "cell_type": "code",
   "execution_count": 3,
   "id": "d5ff6cd7-5504-4704-b67f-c1711bebba8e",
   "metadata": {},
   "outputs": [
    {
     "data": {
      "text/plain": [
       "['blip-base_3rdparty_retrieval', 'blip2_3rdparty_retrieval']"
      ]
     },
     "execution_count": 3,
     "metadata": {},
     "output_type": "execute_result"
    }
   ],
   "source": [
    "ImageToTextRetrievalInferencer.list_models()"
   ]
  },
  {
   "cell_type": "markdown",
   "id": "cfb64881-ba01-4d29-9c87-8a75cec1411c",
   "metadata": {},
   "source": [
    "## 指定模型"
   ]
  },
  {
   "cell_type": "code",
   "execution_count": 4,
   "id": "25cc2bb2-b612-41df-9087-dff2081c3db5",
   "metadata": {},
   "outputs": [],
   "source": [
    "model = 'blip-base_3rdparty_retrieval'"
   ]
  },
  {
   "cell_type": "markdown",
   "id": "41a92848-dd21-4bcf-bb12-8f020798aaea",
   "metadata": {},
   "source": [
    "## 待检索的图像目录"
   ]
  },
  {
   "cell_type": "code",
   "execution_count": 6,
   "id": "5dacc1aa-9fbf-4e3a-8c94-e648ce54b5a3",
   "metadata": {},
   "outputs": [],
   "source": [
    "prototype = 'mmpretrain/demo'"
   ]
  },
  {
   "cell_type": "markdown",
   "id": "56156f0a-48ba-4553-b29e-9d4d5549c7e9",
   "metadata": {},
   "source": [
    "## 检索语句"
   ]
  },
  {
   "cell_type": "code",
   "execution_count": 7,
   "id": "a638404d-e519-4950-9c80-2db336b8d207",
   "metadata": {},
   "outputs": [],
   "source": [
    "retrieval_text = 'A cat sitting beside a dog'"
   ]
  },
  {
   "cell_type": "markdown",
   "id": "23927944-b889-4270-b6ff-036eaf0ec948",
   "metadata": {},
   "source": [
    "## 推理预测"
   ]
  },
  {
   "cell_type": "code",
   "execution_count": 11,
   "id": "51537748-90a6-40cb-8537-191b020e3618",
   "metadata": {},
   "outputs": [
    {
     "name": "stderr",
     "output_type": "stream",
     "text": [
      "The tokenizer class you load from this checkpoint is not the same type as the class this function is called from. It may result in unexpected tokenization. \n",
      "The tokenizer class you load from this checkpoint is 'BertTokenizer'. \n",
      "The class this function is called from is 'BlipTokenizer'.\n"
     ]
    },
    {
     "name": "stdout",
     "output_type": "stream",
     "text": [
      "Loads checkpoint by http backend from path: https://download.openmmlab.com/mmclassification/v1/blip/blip-base_3rdparty_coco-retrieval_20230419-a1804d2c.pth\n"
     ]
    },
    {
     "data": {
      "text/html": [
       "<pre style=\"white-space:pre;overflow-x:auto;line-height:normal;font-family:Menlo,'DejaVu Sans Mono',consolas,'Courier New',monospace\"></pre>\n"
      ],
      "text/plain": []
     },
     "metadata": {},
     "output_type": "display_data"
    },
    {
     "name": "stdout",
     "output_type": "stream",
     "text": [
      "06/23 10:54:07 - mmengine - \u001b[4m\u001b[37mINFO\u001b[0m - The prototype has been prepared, you can use `save_prototype` to dump it into a pickle file for the future usage.\n"
     ]
    }
   ],
   "source": [
    "inferencer = TextToImageRetrievalInferencer(model, prototype=prototype)"
   ]
  },
  {
   "cell_type": "code",
   "execution_count": 9,
   "id": "b7f62ae9-989f-4680-8659-93ed1eeaaab7",
   "metadata": {},
   "outputs": [
    {
     "data": {
      "text/html": [
       "<pre style=\"white-space:pre;overflow-x:auto;line-height:normal;font-family:Menlo,'DejaVu Sans Mono',consolas,'Courier New',monospace\"></pre>\n"
      ],
      "text/plain": []
     },
     "metadata": {},
     "output_type": "display_data"
    }
   ],
   "source": [
    "result = inferencer(retrieval_text, topk=1)"
   ]
  },
  {
   "cell_type": "code",
   "execution_count": 10,
   "id": "1422ba8d-fb46-47c1-a237-a62ceb13be85",
   "metadata": {},
   "outputs": [
    {
     "data": {
      "text/plain": [
       "[[{'match_score': tensor(0.4022),\n",
       "   'sample_idx': 4,\n",
       "   'sample': {'img_path': 'mmpretrain/demo/cat-dog.png'}}]]"
      ]
     },
     "execution_count": 10,
     "metadata": {},
     "output_type": "execute_result"
    }
   ],
   "source": [
    "result"
   ]
  },
  {
   "cell_type": "code",
   "execution_count": null,
   "id": "aa9fb537-3640-4481-be16-4dbd6bf2eb76",
   "metadata": {},
   "outputs": [],
   "source": []
  }
 ],
 "metadata": {
  "kernelspec": {
   "display_name": "Python 3 (ipykernel)",
   "language": "python",
   "name": "python3"
  },
  "language_info": {
   "codemirror_mode": {
    "name": "ipython",
    "version": 3
   },
   "file_extension": ".py",
   "mimetype": "text/x-python",
   "name": "python",
   "nbconvert_exporter": "python",
   "pygments_lexer": "ipython3",
   "version": "3.7.10"
  }
 },
 "nbformat": 4,
 "nbformat_minor": 5
}

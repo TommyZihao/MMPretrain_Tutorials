{
 "cells": [
  {
   "cell_type": "markdown",
   "id": "e5eaafa3-9a18-42c9-bd81-a8b8f5d1ab0f",
   "metadata": {},
   "source": [
    "# MMPretrain模型库算法介绍\n",
    "\n",
    "https://github.com/open-mmlab/mmpretrain#model-zoo"
   ]
  },
  {
   "cell_type": "markdown",
   "id": "80ffdabb-ca2f-47ce-97a4-b6eb226aeb51",
   "metadata": {},
   "source": [
    "## 图像分类"
   ]
  },
  {
   "cell_type": "markdown",
   "id": "13038a17-4ec6-428f-a103-4ecd4d69e9e9",
   "metadata": {},
   "source": [
    "## 自监督学习"
   ]
  },
  {
   "cell_type": "markdown",
   "id": "f1694680-8d58-40b2-a62e-3913471bcff5",
   "metadata": {},
   "source": [
    "## 多模态学习"
   ]
  },
  {
   "cell_type": "code",
   "execution_count": null,
   "id": "b576c8f6-ade7-422a-b800-98763a6b74bb",
   "metadata": {},
   "outputs": [],
   "source": []
  }
 ],
 "metadata": {
  "kernelspec": {
   "display_name": "Python 3 (ipykernel)",
   "language": "python",
   "name": "python3"
  },
  "language_info": {
   "codemirror_mode": {
    "name": "ipython",
    "version": 3
   },
   "file_extension": ".py",
   "mimetype": "text/x-python",
   "name": "python",
   "nbconvert_exporter": "python",
   "pygments_lexer": "ipython3",
   "version": "3.7.10"
  }
 },
 "nbformat": 4,
 "nbformat_minor": 5
}

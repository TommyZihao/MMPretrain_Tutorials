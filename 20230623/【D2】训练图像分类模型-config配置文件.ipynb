{
 "cells": [
  {
   "cell_type": "markdown",
   "id": "1ef463fc-30c3-4cf9-b1d6-0e9916170011",
   "metadata": {},
   "source": [
    "# 训练图像分类模型-config配置文件\n",
    "\n",
    "同济子豪兄 2023-6-22"
   ]
  },
  {
   "cell_type": "markdown",
   "id": "43bb9cce-89ad-4d3b-8340-cb49fb88842e",
   "metadata": {},
   "source": [
    "## 参考视频\n",
    "\n",
    "https://www.bilibili.com/video/BV1Ju4y1Z7ZE"
   ]
  },
  {
   "cell_type": "markdown",
   "id": "d8a5d67c-1a8b-4e9f-b1e8-2cb9b2200a77",
   "metadata": {},
   "source": [
    "## 样例config配置文件\n",
    "\n",
    "`configs/resnet/resnet18_8xb32_in1k.py`"
   ]
  },
  {
   "cell_type": "markdown",
   "id": "17ae515c-3bd3-4004-b8d4-e2a59605bc6a",
   "metadata": {},
   "source": [
    "## 进入MMPretrain主目录"
   ]
  },
  {
   "cell_type": "code",
   "execution_count": 1,
   "id": "92f31b28-602c-4f77-abb9-87e08ba54185",
   "metadata": {},
   "outputs": [],
   "source": [
    "import os\n",
    "os.chdir('mmpretrain')"
   ]
  },
  {
   "cell_type": "markdown",
   "id": "9cb0c1eb-ae3b-4942-9ca4-9dab2f286273",
   "metadata": {},
   "source": [
    "## 自定义config配置文件"
   ]
  },
  {
   "cell_type": "code",
   "execution_count": 5,
   "id": "5afae98b-807d-43a3-a7f6-98bb79449d32",
   "metadata": {},
   "outputs": [],
   "source": [
    "os.mkdir('projects/cat_dog')"
   ]
  },
  {
   "cell_type": "code",
   "execution_count": 3,
   "id": "d06d9132-d4d6-425c-8f1e-1e0bf08e178f",
   "metadata": {},
   "outputs": [],
   "source": [
    "os.chdir('projects/cat_dog')"
   ]
  },
  {
   "cell_type": "code",
   "execution_count": 4,
   "id": "7dd8336f-7175-473f-a356-63b8ac10e644",
   "metadata": {},
   "outputs": [
    {
     "name": "stdout",
     "output_type": "stream",
     "text": [
      "--2023-06-22 21:29:08--  https://zihao-openmmlab.obs.cn-east-3.myhuaweicloud.com/20230622-mmpretrain/configs/resnet18_finetune.py\n",
      "正在连接 172.16.0.13:5848... 已连接。\n",
      "已发出 Proxy 请求，正在等待回应... 200 OK\n",
      "长度： 4062 (4.0K) [binary/octet-stream]\n",
      "正在保存至: “resnet18_finetune.py”\n",
      "\n",
      "resnet18_finetune.p 100%[===================>]   3.97K  --.-KB/s    用时 0.002s  \n",
      "\n",
      "2023-06-22 21:29:08 (1.65 MB/s) - 已保存 “resnet18_finetune.py” [4062/4062])\n",
      "\n"
     ]
    }
   ],
   "source": [
    "!wget https://zihao-openmmlab.obs.cn-east-3.myhuaweicloud.com/20230622-mmpretrain/configs/resnet18_finetune.py"
   ]
  },
  {
   "cell_type": "code",
   "execution_count": null,
   "id": "cd1f207f-0372-4770-9467-dd3c8ff387d3",
   "metadata": {},
   "outputs": [],
   "source": []
  }
 ],
 "metadata": {
  "kernelspec": {
   "display_name": "Python 3 (ipykernel)",
   "language": "python",
   "name": "python3"
  },
  "language_info": {
   "codemirror_mode": {
    "name": "ipython",
    "version": 3
   },
   "file_extension": ".py",
   "mimetype": "text/x-python",
   "name": "python",
   "nbconvert_exporter": "python",
   "pygments_lexer": "ipython3",
   "version": "3.7.10"
  }
 },
 "nbformat": 4,
 "nbformat_minor": 5
}

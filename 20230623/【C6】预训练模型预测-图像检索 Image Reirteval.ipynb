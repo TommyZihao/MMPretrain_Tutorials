{
 "cells": [
  {
   "cell_type": "markdown",
   "id": "929f9d5d-d28b-47df-87d6-9a5fdd4298bd",
   "metadata": {},
   "source": [
    "# 预训练模型预测-图像检索 Image Reirteval\n",
    "\n",
    "同济子豪兄 2023-6-23"
   ]
  },
  {
   "cell_type": "markdown",
   "id": "d931b023-3270-4474-a587-41a424ba7443",
   "metadata": {
    "tags": []
   },
   "source": [
    "## 导入工具包"
   ]
  },
  {
   "cell_type": "code",
   "execution_count": 8,
   "id": "353f9a6a-7f22-40d5-aca6-62e88ea74122",
   "metadata": {},
   "outputs": [],
   "source": [
    "from mmpretrain import ImageRetrievalInferencer\n",
    "from mmpretrain import list_models"
   ]
  },
  {
   "cell_type": "markdown",
   "id": "0a8db0c2-5d46-4b46-ae5e-702acc4b573f",
   "metadata": {},
   "source": [
    "## 查找图像检索算法"
   ]
  },
  {
   "cell_type": "code",
   "execution_count": 3,
   "id": "5c47534d-520d-40ce-b4b8-82682ebce4ed",
   "metadata": {},
   "outputs": [
    {
     "data": {
      "text/plain": [
       "['resnet50-arcface_8xb32_inshop']"
      ]
     },
     "execution_count": 3,
     "metadata": {},
     "output_type": "execute_result"
    }
   ],
   "source": [
    "list_models(task='Image Retrieval')"
   ]
  },
  {
   "cell_type": "markdown",
   "id": "d9bd05bc-41fd-41e0-b9a7-91053bd1fd86",
   "metadata": {},
   "source": [
    "## 指定模型"
   ]
  },
  {
   "cell_type": "code",
   "execution_count": 5,
   "id": "6bb22547-6c5b-41e4-9905-edad3fabd96a",
   "metadata": {},
   "outputs": [],
   "source": [
    "model = 'resnet50-arcface_inshop'"
   ]
  },
  {
   "cell_type": "markdown",
   "id": "7da5c7fc-45f7-4699-b27d-89bec655dd57",
   "metadata": {},
   "source": [
    "## 待检索的图像目录"
   ]
  },
  {
   "cell_type": "code",
   "execution_count": 7,
   "id": "5dacc1aa-9fbf-4e3a-8c94-e648ce54b5a3",
   "metadata": {},
   "outputs": [],
   "source": [
    "prototype = 'mmpretrain/demo/'"
   ]
  },
  {
   "cell_type": "markdown",
   "id": "79c7a68c-7b6c-4761-924e-4cd8ba134c4a",
   "metadata": {},
   "source": [
    "## 推理预测"
   ]
  },
  {
   "cell_type": "code",
   "execution_count": 9,
   "id": "20501bd6-812a-4c9f-9f03-6ef542ddf696",
   "metadata": {},
   "outputs": [
    {
     "ename": "ValueError",
     "evalue": "Failed to find model \"resnet50-arcface_inshop\". please use `mmpretrain.list_models` to get all available names.",
     "output_type": "error",
     "traceback": [
      "\u001b[0;31m---------------------------------------------------------------------------\u001b[0m",
      "\u001b[0;31mValueError\u001b[0m                                Traceback (most recent call last)",
      "\u001b[0;32m/tmp/ipykernel_20930/2655257946.py\u001b[0m in \u001b[0;36m<module>\u001b[0;34m\u001b[0m\n\u001b[0;32m----> 1\u001b[0;31m \u001b[0minferencer\u001b[0m \u001b[0;34m=\u001b[0m \u001b[0mImageRetrievalInferencer\u001b[0m\u001b[0;34m(\u001b[0m\u001b[0mmodel\u001b[0m\u001b[0;34m,\u001b[0m \u001b[0mprototype\u001b[0m\u001b[0;34m=\u001b[0m\u001b[0mprototype\u001b[0m\u001b[0;34m)\u001b[0m\u001b[0;34m\u001b[0m\u001b[0;34m\u001b[0m\u001b[0m\n\u001b[0m",
      "\u001b[0;32m~/work/MMPretrain教程/mmpretrain/mmpretrain/apis/image_retrieval.py\u001b[0m in \u001b[0;36m__init__\u001b[0;34m(self, model, prototype, prototype_cache, prepare_batch_size, pretrained, device, **kwargs)\u001b[0m\n\u001b[1;32m     72\u001b[0m     ) -> None:\n\u001b[1;32m     73\u001b[0m         super().__init__(\n\u001b[0;32m---> 74\u001b[0;31m             model=model, pretrained=pretrained, device=device, **kwargs)\n\u001b[0m\u001b[1;32m     75\u001b[0m \u001b[0;34m\u001b[0m\u001b[0m\n\u001b[1;32m     76\u001b[0m         self.prototype_dataset = self._prepare_prototype(\n",
      "\u001b[0;32m~/work/MMPretrain教程/mmpretrain/mmpretrain/apis/base.py\u001b[0m in \u001b[0;36m__init__\u001b[0;34m(self, model, pretrained, device, device_map, offload_folder, **kwargs)\u001b[0m\n\u001b[1;32m    113\u001b[0m                 \u001b[0mdevice_map\u001b[0m\u001b[0;34m=\u001b[0m\u001b[0mdevice_map\u001b[0m\u001b[0;34m,\u001b[0m\u001b[0;34m\u001b[0m\u001b[0;34m\u001b[0m\u001b[0m\n\u001b[1;32m    114\u001b[0m                 \u001b[0moffload_folder\u001b[0m\u001b[0;34m=\u001b[0m\u001b[0moffload_folder\u001b[0m\u001b[0;34m,\u001b[0m\u001b[0;34m\u001b[0m\u001b[0;34m\u001b[0m\u001b[0m\n\u001b[0;32m--> 115\u001b[0;31m                 **kwargs)\n\u001b[0m\u001b[1;32m    116\u001b[0m \u001b[0;34m\u001b[0m\u001b[0m\n\u001b[1;32m    117\u001b[0m         \u001b[0mmodel\u001b[0m\u001b[0;34m.\u001b[0m\u001b[0meval\u001b[0m\u001b[0;34m(\u001b[0m\u001b[0;34m)\u001b[0m\u001b[0;34m\u001b[0m\u001b[0;34m\u001b[0m\u001b[0m\n",
      "\u001b[0;32m~/work/MMPretrain教程/mmpretrain/mmpretrain/apis/model.py\u001b[0m in \u001b[0;36mget_model\u001b[0;34m(model, pretrained, device, device_map, offload_folder, url_mapping, **kwargs)\u001b[0m\n\u001b[1;32m    167\u001b[0m             \u001b[0mpretrained\u001b[0m \u001b[0;34m=\u001b[0m \u001b[0mconfig\u001b[0m\u001b[0;34m.\u001b[0m\u001b[0mload_from\u001b[0m\u001b[0;34m\u001b[0m\u001b[0;34m\u001b[0m\u001b[0m\n\u001b[1;32m    168\u001b[0m     \u001b[0;32melif\u001b[0m \u001b[0misinstance\u001b[0m\u001b[0;34m(\u001b[0m\u001b[0mmodel\u001b[0m\u001b[0;34m,\u001b[0m \u001b[0mstr\u001b[0m\u001b[0;34m)\u001b[0m\u001b[0;34m:\u001b[0m\u001b[0;34m\u001b[0m\u001b[0;34m\u001b[0m\u001b[0m\n\u001b[0;32m--> 169\u001b[0;31m         \u001b[0mmetainfo\u001b[0m \u001b[0;34m=\u001b[0m \u001b[0mModelHub\u001b[0m\u001b[0;34m.\u001b[0m\u001b[0mget\u001b[0m\u001b[0;34m(\u001b[0m\u001b[0mmodel\u001b[0m\u001b[0;34m)\u001b[0m\u001b[0;34m\u001b[0m\u001b[0;34m\u001b[0m\u001b[0m\n\u001b[0m\u001b[1;32m    170\u001b[0m         \u001b[0mconfig\u001b[0m \u001b[0;34m=\u001b[0m \u001b[0mmetainfo\u001b[0m\u001b[0;34m.\u001b[0m\u001b[0mconfig\u001b[0m\u001b[0;34m\u001b[0m\u001b[0;34m\u001b[0m\u001b[0m\n\u001b[1;32m    171\u001b[0m         \u001b[0;32mif\u001b[0m \u001b[0mpretrained\u001b[0m \u001b[0;32mis\u001b[0m \u001b[0;32mTrue\u001b[0m \u001b[0;32mand\u001b[0m \u001b[0mmetainfo\u001b[0m\u001b[0;34m.\u001b[0m\u001b[0mweights\u001b[0m \u001b[0;32mis\u001b[0m \u001b[0;32mnot\u001b[0m \u001b[0;32mNone\u001b[0m\u001b[0;34m:\u001b[0m\u001b[0;34m\u001b[0m\u001b[0;34m\u001b[0m\u001b[0m\n",
      "\u001b[0;32m~/work/MMPretrain教程/mmpretrain/mmpretrain/apis/model.py\u001b[0m in \u001b[0;36mget\u001b[0;34m(cls, model_name)\u001b[0m\n\u001b[1;32m     59\u001b[0m         \u001b[0;32mif\u001b[0m \u001b[0mmetainfo\u001b[0m \u001b[0;32mis\u001b[0m \u001b[0;32mNone\u001b[0m\u001b[0;34m:\u001b[0m\u001b[0;34m\u001b[0m\u001b[0;34m\u001b[0m\u001b[0m\n\u001b[1;32m     60\u001b[0m             raise ValueError(\n\u001b[0;32m---> 61\u001b[0;31m                 \u001b[0;34mf'Failed to find model \"{model_name}\". please use '\u001b[0m\u001b[0;34m\u001b[0m\u001b[0;34m\u001b[0m\u001b[0m\n\u001b[0m\u001b[1;32m     62\u001b[0m                 '`mmpretrain.list_models` to get all available names.')\n\u001b[1;32m     63\u001b[0m         \u001b[0;32mif\u001b[0m \u001b[0misinstance\u001b[0m\u001b[0;34m(\u001b[0m\u001b[0mmetainfo\u001b[0m\u001b[0;34m.\u001b[0m\u001b[0mconfig\u001b[0m\u001b[0;34m,\u001b[0m \u001b[0mstr\u001b[0m\u001b[0;34m)\u001b[0m\u001b[0;34m:\u001b[0m\u001b[0;34m\u001b[0m\u001b[0;34m\u001b[0m\u001b[0m\n",
      "\u001b[0;31mValueError\u001b[0m: Failed to find model \"resnet50-arcface_inshop\". please use `mmpretrain.list_models` to get all available names."
     ]
    }
   ],
   "source": [
    "inferencer = ImageRetrievalInferencer(model, prototype=prototype)"
   ]
  },
  {
   "cell_type": "code",
   "execution_count": null,
   "id": "52e9f7b4-adcd-4152-a12b-46b00f3df27d",
   "metadata": {},
   "outputs": [],
   "source": [
    "result = inferencer('demo/dog.jpg', topk=2)[0]"
   ]
  },
  {
   "cell_type": "code",
   "execution_count": null,
   "id": "ea4ad211-7413-4a39-9e6a-571edfbf43d3",
   "metadata": {},
   "outputs": [],
   "source": [
    "result"
   ]
  },
  {
   "cell_type": "code",
   "execution_count": null,
   "id": "c85fe0a3-84ff-4a7b-8d73-768c1381ed7f",
   "metadata": {},
   "outputs": [],
   "source": []
  }
 ],
 "metadata": {
  "kernelspec": {
   "display_name": "Python 3 (ipykernel)",
   "language": "python",
   "name": "python3"
  },
  "language_info": {
   "codemirror_mode": {
    "name": "ipython",
    "version": 3
   },
   "file_extension": ".py",
   "mimetype": "text/x-python",
   "name": "python",
   "nbconvert_exporter": "python",
   "pygments_lexer": "ipython3",
   "version": "3.7.10"
  }
 },
 "nbformat": 4,
 "nbformat_minor": 5
}

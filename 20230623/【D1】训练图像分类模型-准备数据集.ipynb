{
 "cells": [
  {
   "cell_type": "markdown",
   "id": "db0f9866-ffa3-4d75-b279-cb3fb1575ccd",
   "metadata": {},
   "source": [
    "## 训练图像分类模型-准备数据集\n",
    "\n",
    "同济子豪兄 2023-6-22"
   ]
  },
  {
   "cell_type": "markdown",
   "id": "7e86ced7-61c7-4b46-a6ab-af3c6e2a2ed7",
   "metadata": {},
   "source": [
    "## 进入MMPretrain主目录"
   ]
  },
  {
   "cell_type": "code",
   "execution_count": 3,
   "id": "a8acccf2-72c7-485e-92d3-eeb27050c26a",
   "metadata": {},
   "outputs": [],
   "source": [
    "import os\n",
    "os.chdir('mmpretrain')"
   ]
  },
  {
   "cell_type": "markdown",
   "id": "8892f71c-0f9f-4e7a-a407-1eaefe860bc9",
   "metadata": {},
   "source": [
    "## 下载数据集"
   ]
  },
  {
   "cell_type": "code",
   "execution_count": null,
   "id": "46c7239f-7f11-4290-a40c-41e28d199b6e",
   "metadata": {},
   "outputs": [],
   "source": [
    "!wget https://download.openmmlab.com/mmclassification/dataset/cats_dogs_dataset.tar"
   ]
  },
  {
   "cell_type": "markdown",
   "id": "ca24e4d9-fa43-41fb-98bf-f8c4da6d3c7e",
   "metadata": {},
   "source": [
    "## 解压数据集"
   ]
  },
  {
   "cell_type": "code",
   "execution_count": 4,
   "id": "a77f6b3f-d1e7-45c5-8d0b-b8dfe9c92b2d",
   "metadata": {},
   "outputs": [],
   "source": [
    "!tar -xf cats_dogs_dataset.tar"
   ]
  },
  {
   "cell_type": "markdown",
   "id": "bd423fc2-cb67-4e1d-a8eb-1d899be8a1b4",
   "metadata": {},
   "source": [
    "## 进入数据集目录"
   ]
  },
  {
   "cell_type": "code",
   "execution_count": 1,
   "id": "0f23646c-4a3b-403b-b460-637b1a09a520",
   "metadata": {},
   "outputs": [],
   "source": [
    "dataset_path = 'cats_dogs_dataset'"
   ]
  },
  {
   "cell_type": "code",
   "execution_count": 4,
   "id": "54eb9d06-fedb-45bc-9d36-c14ea9330a45",
   "metadata": {},
   "outputs": [
    {
     "name": "stdout",
     "output_type": "stream",
     "text": [
      "📁 cats_dogs_dataset/\n",
      "├─📁 val_set/\n",
      "│ ├─📁 dogs/\n",
      "│ └─📁 cats/\n",
      "├─📁 test_set/\n",
      "│ ├─📁 dogs/\n",
      "│ └─📁 cats/\n",
      "└─📁 training_set/\n",
      "  ├─📁 dogs/\n",
      "  └─📁 cats/\n"
     ]
    }
   ],
   "source": [
    "import seedir as sd\n",
    "sd.seedir(dataset_path, style='emoji', depthlimit=2)"
   ]
  },
  {
   "cell_type": "code",
   "execution_count": null,
   "id": "4dc9fb35-3f4c-49fb-b494-c1ed2c8b79dc",
   "metadata": {},
   "outputs": [],
   "source": []
  }
 ],
 "metadata": {
  "kernelspec": {
   "display_name": "Python 3 (ipykernel)",
   "language": "python",
   "name": "python3"
  },
  "language_info": {
   "codemirror_mode": {
    "name": "ipython",
    "version": 3
   },
   "file_extension": ".py",
   "mimetype": "text/x-python",
   "name": "python",
   "nbconvert_exporter": "python",
   "pygments_lexer": "ipython3",
   "version": "3.7.10"
  }
 },
 "nbformat": 4,
 "nbformat_minor": 5
}
